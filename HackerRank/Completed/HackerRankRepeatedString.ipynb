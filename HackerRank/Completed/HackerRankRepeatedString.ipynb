{
 "cells": [
  {
   "cell_type": "code",
   "execution_count": 4,
   "metadata": {},
   "outputs": [],
   "source": [
    "def repeatedString(s, n):\n",
    "    s = list(s)\n",
    "    a_per_round = s.count(\"a\")\n",
    "    print(a_per_round)\n",
    "    rounds = n // len(s)\n",
    "    extra_char = n % len(s)\n",
    "    total_a = a_per_round * rounds\n",
    "    while len(s) > extra_char:\n",
    "        s.pop(len(s)-1)\n",
    "    total_a += s.count(\"a\")\n",
    "    return total_a\n"
   ]
  },
  {
   "cell_type": "code",
   "execution_count": 5,
   "metadata": {},
   "outputs": [
    {
     "name": "stdout",
     "output_type": "stream",
     "text": [
      "1\n",
      "1000000000000\n"
     ]
    }
   ],
   "source": [
    "s = \"a\"\n",
    "n = 1000000000000\n",
    "yes = repeatedString(s,n)\n",
    "print(yes)"
   ]
  },
  {
   "cell_type": "code",
   "execution_count": null,
   "metadata": {},
   "outputs": [],
   "source": []
  }
 ],
 "metadata": {
  "kernelspec": {
   "display_name": "Python 3",
   "language": "python",
   "name": "python3"
  },
  "language_info": {
   "codemirror_mode": {
    "name": "ipython",
    "version": 3
   },
   "file_extension": ".py",
   "mimetype": "text/x-python",
   "name": "python",
   "nbconvert_exporter": "python",
   "pygments_lexer": "ipython3",
   "version": "3.6.6"
  }
 },
 "nbformat": 4,
 "nbformat_minor": 2
}
