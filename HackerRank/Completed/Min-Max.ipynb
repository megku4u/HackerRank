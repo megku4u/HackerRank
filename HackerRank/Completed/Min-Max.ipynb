{
 "cells": [
  {
   "cell_type": "code",
   "execution_count": 15,
   "metadata": {},
   "outputs": [],
   "source": [
    "def miniMaxSum(arr):\n",
    "    total = sum(arr)\n",
    "    #print(total)\n",
    "    highest_sum = total - arr[0]\n",
    "    #print(highest_sum)\n",
    "    lowest_sum = highest_sum\n",
    "    #print(lowest_sum)\n",
    "    for i in range(1, len(arr)):\n",
    "        current_total = total - arr[i]\n",
    "        if (current_total > highest_sum):\n",
    "            highest_sum = current_total\n",
    "        elif (current_total < lowest_sum):\n",
    "            lowest_sum = current_total\n",
    "            #print(\"The lowest sum is: \" + str(lowest_sum))\n",
    "    print(lowest_sum, highest_sum)"
   ]
  },
  {
   "cell_type": "code",
   "execution_count": 16,
   "metadata": {},
   "outputs": [
    {
     "name": "stdout",
     "output_type": "stream",
     "text": [
      "10 14\n"
     ]
    }
   ],
   "source": [
    "arr = [1, 2, 3, 4, 5]\n",
    "miniMaxSum(arr)"
   ]
  },
  {
   "cell_type": "code",
   "execution_count": null,
   "metadata": {},
   "outputs": [],
   "source": []
  }
 ],
 "metadata": {
  "kernelspec": {
   "display_name": "Python 3",
   "language": "python",
   "name": "python3"
  },
  "language_info": {
   "codemirror_mode": {
    "name": "ipython",
    "version": 3
   },
   "file_extension": ".py",
   "mimetype": "text/x-python",
   "name": "python",
   "nbconvert_exporter": "python",
   "pygments_lexer": "ipython3",
   "version": "3.6.6"
  }
 },
 "nbformat": 4,
 "nbformat_minor": 2
}
