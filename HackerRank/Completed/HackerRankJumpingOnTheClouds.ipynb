{
 "cells": [
  {
   "cell_type": "code",
   "execution_count": 1,
   "metadata": {},
   "outputs": [],
   "source": [
    "def jumpingOnClouds(c):\n",
    "    jumps = 0\n",
    "    while len(c) != 1:\n",
    "        if len(c) > 2:\n",
    "            if c[2] == 0:\n",
    "                print(\"plus 2\")\n",
    "                c.pop(0)\n",
    "                c.pop(0)\n",
    "                jumps += 1\n",
    "            elif c[1] == 0:\n",
    "                print(\"plus one\")\n",
    "                c.pop(0)\n",
    "                jumps += 1\n",
    "        elif c[1] == 0:\n",
    "            print(\"last hop\")\n",
    "            c.pop(0)\n",
    "            jumps += 1\n",
    "    return jumps\n",
    "    \n",
    "    '''while currentCloud < finalCloud:\n",
    "        if c[currentCloud + 2] != 1:\n",
    "            currentCloud += 2\n",
    "            jumps += 1\n",
    "        elif c[currentCloud + 1] != 1:\n",
    "            currentCloud += 1\n",
    "            jumps += 1\n",
    "'''"
   ]
  },
  {
   "cell_type": "code",
   "execution_count": 2,
   "metadata": {},
   "outputs": [
    {
     "name": "stdout",
     "output_type": "stream",
     "text": [
      "plus one\n",
      "plus 2\n",
      "plus 2\n",
      "plus 2\n",
      "4\n"
     ]
    }
   ],
   "source": [
    "c = [0, 0, 1, 0, 0, 0, 1, 0]\n",
    "hello = jumpingOnClouds(c)\n",
    "print(hello)"
   ]
  },
  {
   "cell_type": "code",
   "execution_count": null,
   "metadata": {},
   "outputs": [],
   "source": []
  }
 ],
 "metadata": {
  "kernelspec": {
   "display_name": "Python 3",
   "language": "python",
   "name": "python3"
  },
  "language_info": {
   "codemirror_mode": {
    "name": "ipython",
    "version": 3
   },
   "file_extension": ".py",
   "mimetype": "text/x-python",
   "name": "python",
   "nbconvert_exporter": "python",
   "pygments_lexer": "ipython3",
   "version": "3.6.6"
  }
 },
 "nbformat": 4,
 "nbformat_minor": 2
}
