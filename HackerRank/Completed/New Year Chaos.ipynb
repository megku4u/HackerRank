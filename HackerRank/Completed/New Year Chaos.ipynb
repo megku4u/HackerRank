{
 "cells": [
  {
   "cell_type": "code",
   "execution_count": 1,
   "metadata": {},
   "outputs": [],
   "source": [
    "def minimumBribes(q):\n",
    "    for i in range(len(q)):\n",
    "        if (q[i] - (i + 1)) > 2:\n",
    "            return \"Too chaotic\"\n",
    "    doneSort = False\n",
    "    min_bribes = 0\n",
    "    while doneSort == False:\n",
    "        swap_count = 0\n",
    "        for j in range(len(q)-1):\n",
    "            if q[j] > q[j+1]:\n",
    "                q[j], q[j+1] = q[j+1], q[j]\n",
    "                #print(\"swapping\")\n",
    "                swap_count += 1\n",
    "                min_bribes += 1\n",
    "                #print(swap_count)\n",
    "        if swap_count == 0:\n",
    "            doneSort = True\n",
    "            print(\"all done\")\n",
    "    return min_bribes\n",
    "\n",
    "if __name__ == '__main__':\n",
    "    t = int(input())\n",
    "\n",
    "    for t_itr in range(t):\n",
    "        n = int(input())\n",
    "\n",
    "        q = list(map(int, input().rstrip().split()))\n",
    "\n",
    "        minimumBribes(q)"
   ]
  },
  {
   "cell_type": "code",
   "execution_count": 2,
   "metadata": {},
   "outputs": [
    {
     "name": "stdout",
     "output_type": "stream",
     "text": [
      "1\n"
     ]
    }
   ],
   "source": [
    "q = [1, 2, 3, 5, 4, 6, 7, 8]\n",
    "minimumBribes(q)"
   ]
  },
  {
   "cell_type": "code",
   "execution_count": 3,
   "metadata": {},
   "outputs": [
    {
     "data": {
      "text/plain": [
       "'Too chaotic'"
      ]
     },
     "execution_count": 3,
     "metadata": {},
     "output_type": "execute_result"
    }
   ],
   "source": [
    "q2 = [5, 1, 2, 3, 7, 8, 6, 4]\n",
    "minimumBribes(q2)"
   ]
  },
  {
   "cell_type": "code",
   "execution_count": null,
   "metadata": {},
   "outputs": [],
   "source": []
  }
 ],
 "metadata": {
  "kernelspec": {
   "display_name": "Python 3",
   "language": "python",
   "name": "python3"
  },
  "language_info": {
   "codemirror_mode": {
    "name": "ipython",
    "version": 3
   },
   "file_extension": ".py",
   "mimetype": "text/x-python",
   "name": "python",
   "nbconvert_exporter": "python",
   "pygments_lexer": "ipython3",
   "version": "3.6.6"
  }
 },
 "nbformat": 4,
 "nbformat_minor": 2
}
