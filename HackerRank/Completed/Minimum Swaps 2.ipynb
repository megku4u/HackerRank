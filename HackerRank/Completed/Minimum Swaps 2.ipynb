{
 "cells": [
  {
   "cell_type": "markdown",
   "metadata": {},
   "source": [
    "You are given an unordered array consisting of consecutive integers  [1, 2, 3, ..., n] without any duplicates. You are allowed to swap any two elements. You need to find the minimum number of swaps required to sort the array in ascending order.\n",
    "\n",
    "Function Description\n",
    "\n",
    "Complete the function minimumSwaps in the editor below. It must return an integer representing the minimum number of swaps to sort the array.\n",
    "\n",
    "minimumSwaps has the following parameter(s):\n",
    "\n",
    "arr: an unordered array of integers\n",
    "Input Format\n",
    "\n",
    "The first line contains an integer, n , the size of arr. \n",
    "The second line contains n space-separated integers.\n",
    "\n",
    "Return the minimum number of swaps to sort the given array."
   ]
  },
  {
   "cell_type": "code",
   "execution_count": 42,
   "metadata": {},
   "outputs": [],
   "source": [
    "def minimumSwaps(arr):\n",
    "    sorted_array = sorted(arr)\n",
    "    index_dict = {x: i for i,x in enumerate(arr)}\n",
    "    #length = len(arr) - 1\n",
    "    total_swaps = 0\n",
    "    for i,x in enumerate(arr):\n",
    "        correct_num = sorted_array[i]\n",
    "        if arr[i] != correct_num:\n",
    "            old_spot = index_dict[sorted_array[i]]\n",
    "            arr[i], arr[old_spot] = arr[old_spot], arr[i]\n",
    "            index_dict[x] = old_spot\n",
    "            index_dict[correct_num] = i\n",
    "            total_swaps += 1\n",
    "            \n",
    "    return total_swaps"
   ]
  },
  {
   "cell_type": "code",
   "execution_count": 43,
   "metadata": {},
   "outputs": [
    {
     "data": {
      "text/plain": [
       "8"
      ]
     },
     "execution_count": 43,
     "metadata": {},
     "output_type": "execute_result"
    }
   ],
   "source": [
    "arr = [1, 3 ,5 ,7 ,9 ,13, 0, 4, 6, 11, 103, 105 ,107, 111, 11111, 111111111, 11111111111111]\n",
    "minimumSwaps(arr)"
   ]
  },
  {
   "cell_type": "code",
   "execution_count": null,
   "metadata": {},
   "outputs": [],
   "source": []
  }
 ],
 "metadata": {
  "kernelspec": {
   "display_name": "Python 3",
   "language": "python",
   "name": "python3"
  },
  "language_info": {
   "codemirror_mode": {
    "name": "ipython",
    "version": 3
   },
   "file_extension": ".py",
   "mimetype": "text/x-python",
   "name": "python",
   "nbconvert_exporter": "python",
   "pygments_lexer": "ipython3",
   "version": "3.6.6"
  }
 },
 "nbformat": 4,
 "nbformat_minor": 2
}
