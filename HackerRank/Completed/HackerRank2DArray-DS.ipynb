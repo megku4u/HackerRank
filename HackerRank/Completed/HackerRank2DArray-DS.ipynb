{
 "cells": [
  {
   "cell_type": "code",
   "execution_count": 29,
   "metadata": {},
   "outputs": [],
   "source": [
    "def hourglassSum(arr):\n",
    "    highestSum = 0\n",
    "    for i in range(1,5):\n",
    "        for j in range(1,5):\n",
    "            '''print(i, j)'''\n",
    "            currentSum = arr[i-1][j-1] + arr[i-1][j] + arr[i-1][j+1] + arr[i][j] + arr[i+1][j-1] + arr[i+1][j] + arr[i+1][j+1]\n",
    "            \n",
    "            print(str(arr[i-1][j-1]) + \"+\" + str(arr[i][j]) + \"+\" + str(arr[i+1][j]) + \"+\" + str(arr[i][j]) + \n",
    "                  \"+\" + str(arr[i+1][j-1]) + \"+\" + str(arr[i+1][j]) + \"+\" + str(arr[i+1][j+1]) + \"=\" + str(currentSum))\n",
    "            \n",
    "            if i == 1 and j == 1:\n",
    "                highestSum = currentSum\n",
    "                print(highestSum)\n",
    "            elif currentSum > highestSum:\n",
    "                highestSum = currentSum\n",
    "                print(highestSum)\n",
    "            currentSum = 0\n",
    "    return highestSum"
   ]
  },
  {
   "cell_type": "code",
   "execution_count": 30,
   "metadata": {},
   "outputs": [
    {
     "name": "stdout",
     "output_type": "stream",
     "text": [
      "1+1+1+1+1+1+1=7\n",
      "7\n",
      "1+0+1+0+1+1+0=4\n",
      "1+0+0+0+1+0+0=2\n",
      "0+0+0+0+0+0+0=0\n",
      "0+1+0+1+0+0+2=4\n",
      "1+1+2+1+0+2+4=8\n",
      "8\n",
      "0+0+4+0+2+4+4=10\n",
      "10\n",
      "0+0+4+0+4+4+0=8\n",
      "1+0+0+0+0+0+0=3\n",
      "1+2+0+2+0+0+2=6\n",
      "1+4+2+4+0+2+0=7\n",
      "0+4+0+4+2+0+0=6\n",
      "0+0+0+0+0+0+1=3\n",
      "0+0+1+0+0+1+2=9\n",
      "2+2+2+2+1+2+4=19\n",
      "19\n",
      "4+0+4+0+2+4+0=14\n",
      "19\n"
     ]
    }
   ],
   "source": [
    "arr = [\n",
    "[1, 1, 1, 0, 0, 0],\n",
    "[0, 1, 0, 0, 0, 0],\n",
    "[1, 1, 1, 0, 0, 0],\n",
    "[0, 0, 2, 4, 4, 0],\n",
    "[0, 0, 0, 2, 0, 0],\n",
    "[0, 0, 1, 2, 4, 0]]\n",
    "\n",
    "y = hourglassSum(arr)\n",
    "print(y)"
   ]
  },
  {
   "cell_type": "code",
   "execution_count": 26,
   "metadata": {},
   "outputs": [
    {
     "name": "stdout",
     "output_type": "stream",
     "text": [
      "1+1+1+1+1+1+1=7\n",
      "1+0+1+0+1+1+0=4\n",
      "4\n",
      "1+0+0+0+1+0+0=2\n",
      "0+0+0+0+0+0+0=0\n",
      "0+1+9+1+0+9+2=13\n",
      "13\n",
      "1+1+2+1+9+2+-4=9\n",
      "0+0+-4+0+2+-4+-4=-6\n",
      "0+0+-4+0+-4+-4+0=-8\n",
      "1+9+0+9+0+0+0=12\n",
      "1+2+0+2+0+0+-2=2\n",
      "1+-4+-2+-4+0+-2+0=-5\n",
      "0+-4+0+-4+-2+0+0=-6\n",
      "0+0+0+0+0+0+-1=10\n",
      "9+0+-1+0+0+-1+-2=4\n",
      "2+-2+-2+-2+-1+-2+-4=-15\n",
      "-4+0+-4+0+-2+-4+0=-14\n",
      "13\n"
     ]
    }
   ],
   "source": [
    "arr2 = [[1, 1, 1, 0, 0, 0],\n",
    "[0, 1, 0, 0, 0, 0],\n",
    "[1, 1, 1, 0, 0, 0],\n",
    "[0, 9, 2, -4, -4, 0],\n",
    "[0, 0, 0, -2, 0, 0],\n",
    "[0, 0, -1, -2, -4, 0]]\n",
    "x = hourglassSum(arr2)\n",
    "print(x)"
   ]
  },
  {
   "cell_type": "code",
   "execution_count": null,
   "metadata": {},
   "outputs": [],
   "source": []
  },
  {
   "cell_type": "code",
   "execution_count": null,
   "metadata": {},
   "outputs": [],
   "source": []
  }
 ],
 "metadata": {
  "kernelspec": {
   "display_name": "Python 3",
   "language": "python",
   "name": "python3"
  },
  "language_info": {
   "codemirror_mode": {
    "name": "ipython",
    "version": 3
   },
   "file_extension": ".py",
   "mimetype": "text/x-python",
   "name": "python",
   "nbconvert_exporter": "python",
   "pygments_lexer": "ipython3",
   "version": "3.6.6"
  }
 },
 "nbformat": 4,
 "nbformat_minor": 2
}
