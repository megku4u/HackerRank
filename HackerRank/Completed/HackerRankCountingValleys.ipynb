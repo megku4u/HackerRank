{
 "cells": [
  {
   "cell_type": "code",
   "execution_count": 2,
   "metadata": {},
   "outputs": [],
   "source": [
    "def countingValleys(n, s):\n",
    "    starting_level = 0\n",
    "    level = 0\n",
    "    valley_count = 0\n",
    "    path = list(s)\n",
    "    for i in range(n):\n",
    "        if path[i] == \"U\":\n",
    "            print(\"Going up\")\n",
    "            level += 1\n",
    "            if level == starting_level:\n",
    "                #print(\"\")\n",
    "                valley_count += 1\n",
    "        else:\n",
    "            level -= 1\n",
    "            print(\"Going down\")\n",
    "    return valley_count"
   ]
  },
  {
   "cell_type": "code",
   "execution_count": 5,
   "metadata": {},
   "outputs": [
    {
     "name": "stdout",
     "output_type": "stream",
     "text": [
      "Going up\n",
      "Going down\n",
      "Going down\n",
      "Going down\n",
      "Going up\n",
      "Going down\n",
      "Going up\n",
      "Going up\n",
      "\n",
      "1\n"
     ]
    }
   ],
   "source": [
    "answer = countingValleys(8,\"UDDDUDUU\")\n",
    "print(answer)"
   ]
  },
  {
   "cell_type": "code",
   "execution_count": null,
   "metadata": {},
   "outputs": [],
   "source": []
  }
 ],
 "metadata": {
  "kernelspec": {
   "display_name": "Python 3",
   "language": "python",
   "name": "python3"
  },
  "language_info": {
   "codemirror_mode": {
    "name": "ipython",
    "version": 3
   },
   "file_extension": ".py",
   "mimetype": "text/x-python",
   "name": "python",
   "nbconvert_exporter": "python",
   "pygments_lexer": "ipython3",
   "version": "3.6.6"
  }
 },
 "nbformat": 4,
 "nbformat_minor": 2
}
