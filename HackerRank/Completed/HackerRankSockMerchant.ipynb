{
 "cells": [
  {
   "cell_type": "code",
   "execution_count": 39,
   "metadata": {},
   "outputs": [],
   "source": []
  },
  {
   "cell_type": "code",
   "execution_count": 72,
   "metadata": {},
   "outputs": [],
   "source": [
    "#!/bin/python3\n",
    "n = 9\n",
    "ar = [10, 20, 20, 10, 10, 30, 50, 10, 20]\n",
    "\n",
    "\n",
    "import math\n",
    "import os\n",
    "import random\n",
    "import re\n",
    "import sys\n",
    "\n",
    "# Complete the sockMerchant function below.\n",
    "def sockMerchant(n, ar):\n",
    "    ar.sort()\n",
    "    print (ar)\n",
    "    pairs = 0\n",
    "    for i in range(len(ar)):\n",
    "        if len(ar)<2:\n",
    "            print(\"out of socks!\")\n",
    "            return pairs\n",
    "        elif ar[0] == ar [1]:\n",
    "            print(\"found a pair\")\n",
    "            ar.pop(0)\n",
    "            ar.pop(0)\n",
    "            print(ar)\n",
    "            print(\"Adding a pair\")\n",
    "            pairs += 1\n",
    "            print(\"I have \" + str(pairs) + \" pairs!\")\n",
    "            i -= 2\n",
    "        else:\n",
    "            ar.pop(0)\n",
    "            i -= 1\n",
    "        print(ar)\n",
    "    print(\"All done!\")\n",
    "    return pairs\n"
   ]
  },
  {
   "cell_type": "code",
   "execution_count": 73,
   "metadata": {},
   "outputs": [
    {
     "name": "stdout",
     "output_type": "stream",
     "text": [
      "[10, 10, 10, 10, 20, 20, 20, 30, 50]\n",
      "found a pair\n",
      "[10, 10, 20, 20, 20, 30, 50]\n",
      "Adding a pair\n",
      "I have 1 pairs!\n",
      "[10, 10, 20, 20, 20, 30, 50]\n",
      "found a pair\n",
      "[20, 20, 20, 30, 50]\n",
      "Adding a pair\n",
      "I have 2 pairs!\n",
      "[20, 20, 20, 30, 50]\n",
      "found a pair\n",
      "[20, 30, 50]\n",
      "Adding a pair\n",
      "I have 3 pairs!\n",
      "[20, 30, 50]\n",
      "[30, 50]\n",
      "[50]\n",
      "out of socks!\n",
      "3\n"
     ]
    }
   ],
   "source": [
    "y = sockMerchant(n,ar)\n",
    "print (y)"
   ]
  },
  {
   "cell_type": "code",
   "execution_count": null,
   "metadata": {},
   "outputs": [],
   "source": [
    "    "
   ]
  },
  {
   "cell_type": "code",
   "execution_count": null,
   "metadata": {},
   "outputs": [],
   "source": []
  }
 ],
 "metadata": {
  "kernelspec": {
   "display_name": "Python 3",
   "language": "python",
   "name": "python3"
  },
  "language_info": {
   "codemirror_mode": {
    "name": "ipython",
    "version": 3
   },
   "file_extension": ".py",
   "mimetype": "text/x-python",
   "name": "python",
   "nbconvert_exporter": "python",
   "pygments_lexer": "ipython3",
   "version": "3.6.6"
  }
 },
 "nbformat": 4,
 "nbformat_minor": 2
}
